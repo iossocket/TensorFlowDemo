{
 "cells": [
  {
   "cell_type": "code",
   "execution_count": 1,
   "metadata": {},
   "outputs": [
    {
     "name": "stdout",
     "output_type": "stream",
     "text": [
      "5.0\n",
      "7.5\n"
     ]
    }
   ],
   "source": [
    "import tensorflow as tf\n",
    "\n",
    "weights = tf.constant([[1.0, -2.0], [-3.0, 4.0]])\n",
    "with tf.Session() as sess:\n",
    "    print(sess.run(tf.contrib.layers.l1_regularizer(.5)(weights)))\n",
    "    print(sess.run(tf.contrib.layers.l2_regularizer(.5)(weights)))\n"
   ]
  },
  {
   "cell_type": "code",
   "execution_count": 2,
   "metadata": {},
   "outputs": [
    {
     "name": "stdout",
     "output_type": "stream",
     "text": [
      "[[ 0. -0.]\n",
      " [-6.  8.]]\n",
      "[[ 2. -4.]\n",
      " [-0.  0.]]\n",
      "[[ 0. -4.]\n",
      " [-0.  0.]]\n",
      "[[ 0. -4.]\n",
      " [-0.  8.]]\n",
      "[[ 0. -0.]\n",
      " [-0.  8.]]\n",
      "[[ 0. -4.]\n",
      " [-0.  0.]]\n",
      "[[ 0. -4.]\n",
      " [-0.  8.]]\n",
      "[[ 0. -0.]\n",
      " [-6.  8.]]\n",
      "[[ 2. -0.]\n",
      " [-0.  8.]]\n",
      "[[ 0. -4.]\n",
      " [-6.  8.]]\n"
     ]
    }
   ],
   "source": [
    "import tensorflow as tf\n",
    "\n",
    "weights = tf.constant([[1.0, -2.0], [-3.0, 4.0]])\n",
    "with tf.Session() as sess:\n",
    "    for i in range(10):\n",
    "        print sess.run(tf.nn.dropout(weights, 0.5))"
   ]
  },
  {
   "cell_type": "code",
   "execution_count": null,
   "metadata": {
    "collapsed": true
   },
   "outputs": [],
   "source": []
  },
  {
   "cell_type": "code",
   "execution_count": null,
   "metadata": {
    "collapsed": true
   },
   "outputs": [],
   "source": []
  }
 ],
 "metadata": {
  "kernelspec": {
   "display_name": "Python 3",
   "language": "python",
   "name": "python3"
  },
  "language_info": {
   "codemirror_mode": {
    "name": "ipython",
    "version": 3
   },
   "file_extension": ".py",
   "mimetype": "text/x-python",
   "name": "python",
   "nbconvert_exporter": "python",
   "pygments_lexer": "ipython3",
   "version": "3.6.2"
  }
 },
 "nbformat": 4,
 "nbformat_minor": 2
}
